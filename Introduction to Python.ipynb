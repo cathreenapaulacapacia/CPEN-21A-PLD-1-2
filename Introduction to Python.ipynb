{
  "nbformat": 4,
  "nbformat_minor": 0,
  "metadata": {
    "colab": {
      "provenance": [],
      "authorship_tag": "ABX9TyN+wrhWMybPT07UdNM1dqBm",
      "include_colab_link": true
    },
    "kernelspec": {
      "name": "python3",
      "display_name": "Python 3"
    },
    "language_info": {
      "name": "python"
    }
  },
  "cells": [
    {
      "cell_type": "markdown",
      "metadata": {
        "id": "view-in-github",
        "colab_type": "text"
      },
      "source": [
        "<a href=\"https://colab.research.google.com/github/cathreenapaulacapacia/CPEN-21A-PLD-1-2/blob/main/Introduction%20to%20Python.ipynb\" target=\"_parent\"><img src=\"https://colab.research.google.com/assets/colab-badge.svg\" alt=\"Open In Colab\"/></a>"
      ]
    },
    {
      "cell_type": "markdown",
      "source": [
        "# Indentation"
      ],
      "metadata": {
        "id": "kIR3NqDkj9rc"
      }
    },
    {
      "cell_type": "code",
      "source": [
        "if 5>4:\n",
        "  print(\"5 is greater than 4\")  #This is a comment"
      ],
      "metadata": {
        "colab": {
          "base_uri": "https://localhost:8080/"
        },
        "id": "1uGlcIb0fz8J",
        "outputId": "378a24b6-505c-4d5c-8549-b520779be280"
      },
      "execution_count": 2,
      "outputs": [
        {
          "output_type": "stream",
          "name": "stdout",
          "text": [
            "5 is greater than 4\n"
          ]
        }
      ]
    },
    {
      "cell_type": "markdown",
      "source": [
        "# Variable Declaration"
      ],
      "metadata": {
        "id": "qY0JlDa6gwYG"
      }
    },
    {
      "cell_type": "code",
      "source": [
        "#variable with a single value\n",
        "x=5\n",
        "y=3\n",
        "if x>y: \n",
        "  print(\"x is greater than y\")\n",
        "else:\n",
        "    print(\"y is greater than y\")\n",
        "\n",
        "\n",
        "  #variable with multiple values\n",
        "\n",
        "a,b = 1,2\n",
        "print(\"The value of a is:\",a)\n",
        "print(\"The value of b is:\",b)\n",
        "\n",
        "#multiple variables with single value\n",
        "b = q = r = \"Cathie\"\n",
        "print(b)\n",
        "print(q)\n",
        "print(r)"
      ],
      "metadata": {
        "colab": {
          "base_uri": "https://localhost:8080/"
        },
        "id": "146A8qFWg1F7",
        "outputId": "c7579db3-1163-433a-f931-6396afc7897f"
      },
      "execution_count": 14,
      "outputs": [
        {
          "output_type": "stream",
          "name": "stdout",
          "text": [
            "x is greater than y\n",
            "The value of a is: 1\n",
            "The value of b is: 2\n",
            "Cathie\n",
            "Cathie\n",
            "Cathie\n"
          ]
        }
      ]
    },
    {
      "cell_type": "markdown",
      "source": [
        "# Casting and Type( ) Function"
      ],
      "metadata": {
        "id": "9ujQLTL_hEBo"
      }
    },
    {
      "cell_type": "code",
      "source": [
        "f = int(4)   #integer\n",
        "g=float(4)   #decimal/fraction\n",
        "\n",
        "print (f)\n",
        "print (g)\n",
        "\n",
        "print(type(f))\n",
        "print(type(g))"
      ],
      "metadata": {
        "colab": {
          "base_uri": "https://localhost:8080/"
        },
        "id": "nJA8P6eShLex",
        "outputId": "1d27c794-6c16-4078-b5ad-13e22e1c7fad"
      },
      "execution_count": 5,
      "outputs": [
        {
          "output_type": "stream",
          "name": "stdout",
          "text": [
            "4\n",
            "4.0\n",
            "<class 'int'>\n",
            "<class 'float'>\n"
          ]
        }
      ]
    },
    {
      "cell_type": "markdown",
      "source": [
        "# Dobule Quote or Single Quote"
      ],
      "metadata": {
        "id": "8mXYh1XyhmSZ"
      }
    },
    {
      "cell_type": "code",
      "source": [
        "name = \"Cathreena\"\n",
        "name1 = \"Paula\"\n",
        "name2 = \"Gomez\"\n",
        "name3 = \"Capacia\"\n",
        "\n",
        "print(name)\n",
        "print(name1)\n",
        "print(name2)\n",
        "print(name3)"
      ],
      "metadata": {
        "colab": {
          "base_uri": "https://localhost:8080/"
        },
        "id": "R-TG4-pShnL7",
        "outputId": "cbba1f42-0d02-4cda-caf8-21393c6a7687"
      },
      "execution_count": 13,
      "outputs": [
        {
          "output_type": "stream",
          "name": "stdout",
          "text": [
            "Cathreena\n",
            "Paula\n",
            "Gomez\n",
            "Capacia\n"
          ]
        }
      ]
    },
    {
      "cell_type": "markdown",
      "source": [
        "# Case Sensitive"
      ],
      "metadata": {
        "id": "9ZqnUb0Bh8av"
      }
    },
    {
      "cell_type": "code",
      "source": [
        "name = \"Cathie\"\n",
        "print(name)"
      ],
      "metadata": {
        "colab": {
          "base_uri": "https://localhost:8080/"
        },
        "id": "cifPqffph9Vv",
        "outputId": "1c4c4d86-3562-42fa-e27a-4fc12c45048e"
      },
      "execution_count": 12,
      "outputs": [
        {
          "output_type": "stream",
          "name": "stdout",
          "text": [
            "Cathie\n"
          ]
        }
      ]
    },
    {
      "cell_type": "markdown",
      "source": [
        "# Output Variables"
      ],
      "metadata": {
        "id": "-6MNC4FviDol"
      }
    },
    {
      "cell_type": "code",
      "source": [
        "o = \"is fun!\"\n",
        "print(\"Pyton programming\"+\" \"+ o) #append is fun! \n",
        "\n",
        "n = \"Python\"\n",
        "m = \"is fun!\"\n",
        "k = n + \" \" + m\n",
        "print(k)"
      ],
      "metadata": {
        "colab": {
          "base_uri": "https://localhost:8080/"
        },
        "id": "K-U_hhRRiEud",
        "outputId": "c3284c2e-f194-437f-8835-6b8ae74eabae"
      },
      "execution_count": 16,
      "outputs": [
        {
          "output_type": "stream",
          "name": "stdout",
          "text": [
            "Pyton programming is fun!\n",
            "Python is fun!\n"
          ]
        }
      ]
    }
  ]
}