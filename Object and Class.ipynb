{
  "nbformat": 4,
  "nbformat_minor": 0,
  "metadata": {
    "colab": {
      "provenance": [],
      "authorship_tag": "ABX9TyMe1Yd/SqJABapx8ldCZh1Z",
      "include_colab_link": true
    },
    "kernelspec": {
      "name": "python3",
      "display_name": "Python 3"
    },
    "language_info": {
      "name": "python"
    }
  },
  "cells": [
    {
      "cell_type": "markdown",
      "metadata": {
        "id": "view-in-github",
        "colab_type": "text"
      },
      "source": [
        "<a href=\"https://colab.research.google.com/github/cathreenapaulacapacia/CPEN-21A-PLD-1-2/blob/main/Object%20and%20Class.ipynb\" target=\"_parent\"><img src=\"https://colab.research.google.com/assets/colab-badge.svg\" alt=\"Open In Colab\"/></a>"
      ]
    },
    {
      "cell_type": "code",
      "execution_count": 1,
      "metadata": {
        "colab": {
          "base_uri": "https://localhost:8080/"
        },
        "id": "DlJYODjp-esv",
        "outputId": "4c256e7c-7341-4202-b0c7-dd2d0596b155"
      },
      "outputs": [
        {
          "output_type": "stream",
          "name": "stdout",
          "text": [
            "My name is: Cathreena Paula G. Capacia\n",
            "My age is: 20\n",
            "My birthdate is: November 26,2002\n",
            "My personal info are all here\n"
          ]
        }
      ],
      "source": [
        "class Person:\n",
        "  def __init__(self,name,age,birthdate):      #object and class constructor\n",
        "    self.name = name\n",
        "    self.age = age\n",
        "    self.birthdate = birthdate\n",
        "\n",
        "  def info(self):\n",
        "    return \"My personal info are all here\"    #method constructor\n",
        "\n",
        "class Student(Person):                        #inheritance\n",
        "  pass\n",
        "\n",
        "person = Person(\"Cathreena Paula G. Capacia\",20,\"November 26,2002\") #naming object\n",
        "print(\"My name is:\",person.name)\n",
        "print(\"My age is:\",person.age)\n",
        "print(\"My birthdate is:\",person.birthdate)\n",
        "print(person.info())"
      ]
    },
    {
      "cell_type": "markdown",
      "source": [
        "#Exercise 1"
      ],
      "metadata": {
        "id": "sLuy-PG4_BFm"
      }
    },
    {
      "cell_type": "markdown",
      "source": [
        "# Write a Python program that:\n",
        "# Use Shape as parent class, Rectangle as child class with length and width attributes\n",
        "# Use Perimeter() and Area() as methods to compute for the perimeter and area of the rectangle \n",
        "     "
      ],
      "metadata": {
        "id": "WxvQroVt_C-d"
      }
    },
    {
      "cell_type": "code",
      "source": [
        "class Shape:\n",
        "  def __init__(self):\n",
        "      self.name = \"Shape\"\n",
        "\n",
        "class Rectangle(Shape):\n",
        "    def __init__(self, length, width):\n",
        "        super().__init__()\n",
        "        self.name = \"Rectangle\"\n",
        "        self.length = length\n",
        "        self.width = width\n",
        "\n",
        "rectangle = Rectangle(9, 26)\n",
        "print(\"Shape:\", rectangle.name) \n",
        "print(\"Length:\", rectangle.length) \n",
        "print(\"Width:\", rectangle.width)  "
      ],
      "metadata": {
        "colab": {
          "base_uri": "https://localhost:8080/"
        },
        "id": "xLAzPoqu_H10",
        "outputId": "5e58bab2-0918-4b62-b781-40de57a84f4c"
      },
      "execution_count": 7,
      "outputs": [
        {
          "output_type": "stream",
          "name": "stdout",
          "text": [
            "Shape: Rectangle\n",
            "Length: 9\n",
            "Width: 26\n"
          ]
        }
      ]
    },
    {
      "cell_type": "code",
      "source": [
        "class Shape:\n",
        "    def __init__(self):\n",
        "        pass\n",
        "\n",
        "class Rectangle(Shape):\n",
        "    def __init__(self, length, width):\n",
        "        self.length = length\n",
        "        self.width = width\n",
        "    \n",
        "    def perimeter(self):\n",
        "        return 2 * (self.length + self.width)\n",
        "    \n",
        "    def area(self):\n",
        "        return self.length * self.width\n",
        "\n",
        "rectangle = Rectangle(9, 26)\n",
        "print(\"Perimeter:\", rectangle.perimeter())\n",
        "print(\"Area:\", rectangle.area())"
      ],
      "metadata": {
        "colab": {
          "base_uri": "https://localhost:8080/"
        },
        "id": "BmM0U5L4AiYO",
        "outputId": "f2c431d6-ce3a-4358-c35e-9a0c94c61190"
      },
      "execution_count": 8,
      "outputs": [
        {
          "output_type": "stream",
          "name": "stdout",
          "text": [
            "Perimeter: 70\n",
            "Area: 234\n"
          ]
        }
      ]
    }
  ]
}