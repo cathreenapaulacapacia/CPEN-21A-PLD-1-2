{
  "nbformat": 4,
  "nbformat_minor": 0,
  "metadata": {
    "colab": {
      "provenance": [],
      "authorship_tag": "ABX9TyNJzpkVDq0nZL2oMKJ4f0fr",
      "include_colab_link": true
    },
    "kernelspec": {
      "name": "python3",
      "display_name": "Python 3"
    },
    "language_info": {
      "name": "python"
    }
  },
  "cells": [
    {
      "cell_type": "markdown",
      "metadata": {
        "id": "view-in-github",
        "colab_type": "text"
      },
      "source": [
        "<a href=\"https://colab.research.google.com/github/cathreenapaulacapacia/CPEN-21A-PLD-1-2/blob/main/Python%20Built%20in%20Data%20Types.ipynb\" target=\"_parent\"><img src=\"https://colab.research.google.com/assets/colab-badge.svg\" alt=\"Open In Colab\"/></a>"
      ]
    },
    {
      "cell_type": "code",
      "execution_count": 23,
      "metadata": {
        "colab": {
          "base_uri": "https://localhost:8080/"
        },
        "id": "1KqX23MZM4Gv",
        "outputId": "430364c2-8606-4649-bc66-43df3bd2308d"
      },
      "outputs": [
        {
          "output_type": "stream",
          "name": "stdout",
          "text": [
            "{'Name': 'Cath', 'Age': 20, 'Birthday': 'November 26, 2002'}\n"
          ]
        }
      ],
      "source": [
        "thisdict = {\n",
        "                  \"Name\": \"Cath\",\n",
        "                  \"Age\": 20,\n",
        "                  \"Birthday\": \"November 26, 2002\"\n",
        "                  }\n",
        "print(thisdict)"
      ]
    },
    {
      "cell_type": "markdown",
      "source": [
        "#Slice () Function"
      ],
      "metadata": {
        "id": "6K6-g1n-TqTw"
      }
    },
    {
      "cell_type": "code",
      "source": [
        "a = [\"a\",\"b\",\"c\",'d','e']\n",
        "print(a[0:5:3])"
      ],
      "metadata": {
        "colab": {
          "base_uri": "https://localhost:8080/"
        },
        "id": "7GWIT9lCN-xn",
        "outputId": "b4a27aa1-00fb-4e2f-bf5e-42f9b95f5684"
      },
      "execution_count": 24,
      "outputs": [
        {
          "output_type": "stream",
          "name": "stdout",
          "text": [
            "['a', 'd']\n"
          ]
        }
      ]
    },
    {
      "cell_type": "markdown",
      "source": [
        "#Variables and Data Types"
      ],
      "metadata": {
        "id": "8eSZjjtKQI9n"
      }
    },
    {
      "cell_type": "code",
      "source": [
        "#numbers\n",
        "varNum = 123\n",
        "pi = 3.14159\n",
        "\n",
        "#strings\n",
        "varStrings = \"Hello World!\"\n",
        "varText = 'This is a String'\n",
        "\n",
        "#Lists\n",
        "varList = [\"abc\", 123]\n",
        "\n",
        "#Tuples\n",
        "varTuple = ('abc', 123, \"Hello\")\n",
        "\n",
        "#Dictionaries\n",
        "var = 3\n",
        "varDict = {'first':1, '2':'2nd', 3:var}\n",
        "varDict = {}\n",
        "varDict['first']= 1\n",
        "varDict['2'] = '2nd'\n",
        "varDict[3] = var"
      ],
      "metadata": {
        "id": "My8zDt4pQdNu"
      },
      "execution_count": 27,
      "outputs": []
    },
    {
      "cell_type": "markdown",
      "source": [
        "#Arithmetic"
      ],
      "metadata": {
        "id": "NjS0fgdnQqZ9"
      }
    },
    {
      "cell_type": "markdown",
      "source": [
        "Addition"
      ],
      "metadata": {
        "id": "xxX6klj1Zih8"
      }
    },
    {
      "cell_type": "code",
      "source": [
        "a = 5 + 3\n",
        "print (a)"
      ],
      "metadata": {
        "colab": {
          "base_uri": "https://localhost:8080/"
        },
        "id": "nIvJqWI4ZkHs",
        "outputId": "ad44b3fc-fc95-4de2-e56b-5c35d6b1623f"
      },
      "execution_count": 35,
      "outputs": [
        {
          "output_type": "stream",
          "name": "stdout",
          "text": [
            "8\n"
          ]
        }
      ]
    },
    {
      "cell_type": "markdown",
      "source": [
        "Subtraction"
      ],
      "metadata": {
        "id": "iIxfTEM5ZmzE"
      }
    },
    {
      "cell_type": "code",
      "source": [
        "b = 5 - 3\n",
        "print (b)"
      ],
      "metadata": {
        "colab": {
          "base_uri": "https://localhost:8080/"
        },
        "id": "NJDRlmXTZrDk",
        "outputId": "5458bcb4-29b5-4505-d606-07e50d9b26f8"
      },
      "execution_count": 36,
      "outputs": [
        {
          "output_type": "stream",
          "name": "stdout",
          "text": [
            "2\n"
          ]
        }
      ]
    },
    {
      "cell_type": "markdown",
      "source": [
        "Multiplication"
      ],
      "metadata": {
        "id": "MWbp_Ib2ZwAY"
      }
    },
    {
      "cell_type": "code",
      "source": [
        "c = 5 * 3\n",
        "print (c)"
      ],
      "metadata": {
        "colab": {
          "base_uri": "https://localhost:8080/"
        },
        "id": "k0QeIh58Zx-X",
        "outputId": "6574b372-c506-4382-95cb-6c72b76ec407"
      },
      "execution_count": 37,
      "outputs": [
        {
          "output_type": "stream",
          "name": "stdout",
          "text": [
            "15\n"
          ]
        }
      ]
    },
    {
      "cell_type": "markdown",
      "source": [
        "Exponent"
      ],
      "metadata": {
        "id": "CfROLwqDZ1Q_"
      }
    },
    {
      "cell_type": "code",
      "source": [
        "d = 5 ** 3\n",
        "print (d)"
      ],
      "metadata": {
        "colab": {
          "base_uri": "https://localhost:8080/"
        },
        "id": "BN1IGw9RZ3ss",
        "outputId": "b6410267-8174-433c-f482-46de3dbbe101"
      },
      "execution_count": 38,
      "outputs": [
        {
          "output_type": "stream",
          "name": "stdout",
          "text": [
            "125\n"
          ]
        }
      ]
    },
    {
      "cell_type": "markdown",
      "source": [
        "Division"
      ],
      "metadata": {
        "id": "ez4Xh9fAZ9Gs"
      }
    },
    {
      "cell_type": "code",
      "source": [
        "e = 5 / 3\n",
        "print (e)"
      ],
      "metadata": {
        "colab": {
          "base_uri": "https://localhost:8080/"
        },
        "id": "s6OXv9CBZ-Tf",
        "outputId": "0ce6fa2a-4da1-4738-97a2-e1338a405f21"
      },
      "execution_count": 39,
      "outputs": [
        {
          "output_type": "stream",
          "name": "stdout",
          "text": [
            "1.6666666666666667\n"
          ]
        }
      ]
    },
    {
      "cell_type": "markdown",
      "source": [
        "Increment"
      ],
      "metadata": {
        "id": "wU3U_SBQaAUs"
      }
    },
    {
      "cell_type": "code",
      "source": [
        "f = 5\n",
        "f += 1\n",
        "print (f)"
      ],
      "metadata": {
        "colab": {
          "base_uri": "https://localhost:8080/"
        },
        "id": "vAe_ee-4aDQz",
        "outputId": "ca05b690-18f4-486e-91cf-a646b8c9a863"
      },
      "execution_count": 40,
      "outputs": [
        {
          "output_type": "stream",
          "name": "stdout",
          "text": [
            "6\n"
          ]
        }
      ]
    },
    {
      "cell_type": "markdown",
      "source": [
        "Decrement"
      ],
      "metadata": {
        "id": "HvBfQkLHaIY8"
      }
    },
    {
      "cell_type": "code",
      "source": [
        "g = 5\n",
        "g -= 1\n",
        "print (g)"
      ],
      "metadata": {
        "colab": {
          "base_uri": "https://localhost:8080/"
        },
        "id": "9W_tUYntaJqM",
        "outputId": "834a56e8-3a7b-4c45-a361-33a99a2bdd19"
      },
      "execution_count": 41,
      "outputs": [
        {
          "output_type": "stream",
          "name": "stdout",
          "text": [
            "4\n"
          ]
        }
      ]
    },
    {
      "cell_type": "markdown",
      "source": [
        "String Concatenation"
      ],
      "metadata": {
        "id": "TFm3d6htaRo8"
      }
    },
    {
      "cell_type": "code",
      "source": [
        "h = 'Hello' + ' ' + 'World!'\n",
        "print (h)"
      ],
      "metadata": {
        "colab": {
          "base_uri": "https://localhost:8080/"
        },
        "id": "sHU-FPpqaTQM",
        "outputId": "23c9011a-5f30-46a1-faa6-ada911baa882"
      },
      "execution_count": 42,
      "outputs": [
        {
          "output_type": "stream",
          "name": "stdout",
          "text": [
            "Hello World!\n"
          ]
        }
      ]
    },
    {
      "cell_type": "markdown",
      "source": [
        "Complex Expressions"
      ],
      "metadata": {
        "id": "zLAVAfaiaXk9"
      }
    },
    {
      "cell_type": "code",
      "source": [
        "i = 3 + 5 - 6 * 2 / 4\n",
        "print (i)"
      ],
      "metadata": {
        "colab": {
          "base_uri": "https://localhost:8080/"
        },
        "id": "BavYIrhJaY01",
        "outputId": "0f59843f-2009-4db1-df1a-8a96c76f5e21"
      },
      "execution_count": 43,
      "outputs": [
        {
          "output_type": "stream",
          "name": "stdout",
          "text": [
            "5.0\n"
          ]
        }
      ]
    },
    {
      "cell_type": "markdown",
      "source": [
        "#Conditional Statements"
      ],
      "metadata": {
        "id": "uopX_5jbSd7G"
      }
    },
    {
      "cell_type": "markdown",
      "source": [
        "Boolean Conditions"
      ],
      "metadata": {
        "id": "EMCw8oHKTf81"
      }
    },
    {
      "cell_type": "code",
      "source": [
        "x = True\n",
        "if x:\n",
        "  print(\"var x is True\")\n",
        "else:\n",
        "  print(\"var x i false\")"
      ],
      "metadata": {
        "colab": {
          "base_uri": "https://localhost:8080/"
        },
        "id": "aMEPK300Sp7I",
        "outputId": "fb304cf0-c550-41b1-bba2-c2f6b8c3a055"
      },
      "execution_count": 20,
      "outputs": [
        {
          "output_type": "stream",
          "name": "stdout",
          "text": [
            "var x is True\n"
          ]
        }
      ]
    },
    {
      "cell_type": "markdown",
      "source": [
        "String Conditions "
      ],
      "metadata": {
        "id": "OhPZRtGrSwa9"
      }
    },
    {
      "cell_type": "code",
      "source": [
        "x = 'Hello World!'\n",
        "if x=='Hello World!':\n",
        "  print (\"var x is Hello World!\")\n",
        "else:\n",
        "  print(\"var x is not Hello World!\")"
      ],
      "metadata": {
        "colab": {
          "base_uri": "https://localhost:8080/"
        },
        "id": "NTCBOZkdS1MP",
        "outputId": "14b7cd22-d3a7-4942-d597-de132a0bc5bc"
      },
      "execution_count": 21,
      "outputs": [
        {
          "output_type": "stream",
          "name": "stdout",
          "text": [
            "var x is Hello World!\n"
          ]
        }
      ]
    },
    {
      "cell_type": "markdown",
      "source": [
        "Numerical Conditions "
      ],
      "metadata": {
        "id": "0tFEg-XLS-7l"
      }
    },
    {
      "cell_type": "code",
      "source": [
        "x=10\n",
        "if x == '10':\n",
        "  print (\"var x is a string\")\n",
        "elif x == 10:\n",
        "  print(\"var x is an integer\")\n",
        "else:\n",
        "  print(\"var x is none of the above\")"
      ],
      "metadata": {
        "colab": {
          "base_uri": "https://localhost:8080/"
        },
        "id": "juYt6wu9TCll",
        "outputId": "071b1ec5-c8b8-4fa5-eb8e-5abbed7672b6"
      },
      "execution_count": 22,
      "outputs": [
        {
          "output_type": "stream",
          "name": "stdout",
          "text": [
            "var x is an integer\n"
          ]
        }
      ]
    },
    {
      "cell_type": "markdown",
      "source": [
        "#Loops"
      ],
      "metadata": {
        "id": "vHrZAdtgTOy9"
      }
    },
    {
      "cell_type": "markdown",
      "source": [
        "For Loops"
      ],
      "metadata": {
        "id": "xAKtdO1eTPm2"
      }
    },
    {
      "cell_type": "code",
      "source": [
        "for var in range(0, 5, 2):\n",
        "  print(var)"
      ],
      "metadata": {
        "colab": {
          "base_uri": "https://localhost:8080/"
        },
        "id": "ZkJphUJkVUAX",
        "outputId": "13c4f921-f7a8-487b-a9d8-362411237505"
      },
      "execution_count": 28,
      "outputs": [
        {
          "output_type": "stream",
          "name": "stdout",
          "text": [
            "0\n",
            "2\n",
            "4\n"
          ]
        }
      ]
    },
    {
      "cell_type": "markdown",
      "source": [
        "While Loops"
      ],
      "metadata": {
        "id": "Uu5aLsIuVYCo"
      }
    },
    {
      "cell_type": "code",
      "source": [
        "var = 0\n",
        "while var < 5:\n",
        "  print(var)\n",
        "  var += 2"
      ],
      "metadata": {
        "colab": {
          "base_uri": "https://localhost:8080/"
        },
        "id": "lYyDiZy-VfBG",
        "outputId": "240108dd-12ba-4eeb-d457-55a79be2132b"
      },
      "execution_count": 29,
      "outputs": [
        {
          "output_type": "stream",
          "name": "stdout",
          "text": [
            "0\n",
            "2\n",
            "4\n"
          ]
        }
      ]
    },
    {
      "cell_type": "markdown",
      "source": [
        "Nested Loops"
      ],
      "metadata": {
        "id": "cBlBctgIVifk"
      }
    },
    {
      "cell_type": "code",
      "source": [
        "x = 0\n",
        "while x < 5:\n",
        "  for y in range (0, x):\n",
        "    print(y, end='')\n",
        "  x += 1\n",
        "  print()"
      ],
      "metadata": {
        "colab": {
          "base_uri": "https://localhost:8080/"
        },
        "id": "MtSK9u_wVnQs",
        "outputId": "ec1fd2bb-065d-4c5c-d3af-55cc86c71fe1"
      },
      "execution_count": 30,
      "outputs": [
        {
          "output_type": "stream",
          "name": "stdout",
          "text": [
            "\n",
            "0\n",
            "01\n",
            "012\n",
            "0123\n"
          ]
        }
      ]
    },
    {
      "cell_type": "markdown",
      "source": [
        "#Functions"
      ],
      "metadata": {
        "id": "_IsND0OyVxoM"
      }
    },
    {
      "cell_type": "code",
      "source": [
        "def remainder(n, m):\n",
        "  while True:\n",
        "    if n - m < 0:\n",
        "      return n\n",
        "    else: \n",
        "      n = n - m\n",
        "\n",
        "remainder(10, 4)"
      ],
      "metadata": {
        "colab": {
          "base_uri": "https://localhost:8080/"
        },
        "id": "QRjVYMuJVykV",
        "outputId": "29d6a4a4-26cd-472b-dcea-31faf0998fe9"
      },
      "execution_count": 31,
      "outputs": [
        {
          "output_type": "execute_result",
          "data": {
            "text/plain": [
              "2"
            ]
          },
          "metadata": {},
          "execution_count": 31
        }
      ]
    },
    {
      "cell_type": "markdown",
      "source": [
        "#Lists\n"
      ],
      "metadata": {
        "id": "Ud0CPk3uOiEG"
      }
    },
    {
      "cell_type": "code",
      "source": [
        "pi = 3.14159\n",
        "varList = [1, 2, 'A', 'B', 'Hello!', pi]\n",
        "print(varList[0])\n",
        "\n",
        "print(varList[4])\n",
        "\n",
        "varList.append('World!')\n",
        "print(varList[6])\n",
        "\n",
        "len(varList)\n",
        "\n",
        "print(varList[5])\n",
        "\n",
        "varList.remove(pi)\n",
        "print(varList[5])"
      ],
      "metadata": {
        "colab": {
          "base_uri": "https://localhost:8080/"
        },
        "id": "nVpfpcScOi9e",
        "outputId": "4fb99c6f-0ccf-4499-9546-5f7e6a49b61f"
      },
      "execution_count": 32,
      "outputs": [
        {
          "output_type": "stream",
          "name": "stdout",
          "text": [
            "1\n",
            "Hello!\n",
            "World!\n",
            "3.14159\n",
            "World!\n"
          ]
        }
      ]
    },
    {
      "cell_type": "markdown",
      "source": [
        "#Dictionaries"
      ],
      "metadata": {
        "id": "rVgCA4myPC8O"
      }
    },
    {
      "cell_type": "code",
      "source": [
        "var = \"Hello World!\"\n",
        "varDict={'first': 123,2 : 'abc','3': var,4:['lista','listb']}\n",
        "\n",
        "print(varDict['first'])\n",
        "\n",
        "print(varDict[2])\n",
        "\n",
        "print (varDict['3'])\n",
        "\n",
        "print(varDict[4])\n",
        "\n",
        "print(varDict[4][1])\n",
        "\n",
        "len(varDict)"
      ],
      "metadata": {
        "colab": {
          "base_uri": "https://localhost:8080/"
        },
        "id": "hDLP1wfhPD0u",
        "outputId": "fe78450f-5c05-481b-8642-4147c66eb1db"
      },
      "execution_count": 25,
      "outputs": [
        {
          "output_type": "stream",
          "name": "stdout",
          "text": [
            "123\n",
            "abc\n",
            "Hello World!\n",
            "['lista', 'listb']\n",
            "listb\n"
          ]
        },
        {
          "output_type": "execute_result",
          "data": {
            "text/plain": [
              "4"
            ]
          },
          "metadata": {},
          "execution_count": 25
        }
      ]
    },
    {
      "cell_type": "markdown",
      "source": [
        "#List Generators and Comprehension"
      ],
      "metadata": {
        "id": "J3lQJfAIPbZl"
      }
    },
    {
      "cell_type": "code",
      "source": [
        "def gen_num_up_to(n):\n",
        "  num = 0\n",
        "  while num < n:\n",
        "    yield num\n",
        "    num += 1\n",
        "\n",
        "gen_num_up_to(5)"
      ],
      "metadata": {
        "colab": {
          "base_uri": "https://localhost:8080/"
        },
        "id": "yIRiFk8FYWc0",
        "outputId": "621096c7-9379-4b0d-f9c7-b8129e36aa84"
      },
      "execution_count": 33,
      "outputs": [
        {
          "output_type": "execute_result",
          "data": {
            "text/plain": [
              "<generator object gen_num_up_to at 0x7ffab2339580>"
            ]
          },
          "metadata": {},
          "execution_count": 33
        }
      ]
    },
    {
      "cell_type": "code",
      "source": [
        "def gen_num_up_to(n):\n",
        "  num = 0\n",
        "  while num < n:\n",
        "    yield num\n",
        "    num += 1\n",
        "\n",
        "varList = gen_num_up_to(5)\n",
        "print([var for var in varList])"
      ],
      "metadata": {
        "colab": {
          "base_uri": "https://localhost:8080/"
        },
        "id": "lYsNximgPjtx",
        "outputId": "d5bf1f9e-f436-49bf-d0b7-4c14e520e61d"
      },
      "execution_count": 26,
      "outputs": [
        {
          "output_type": "stream",
          "name": "stdout",
          "text": [
            "[0, 1, 2, 3, 4]\n"
          ]
        }
      ]
    },
    {
      "cell_type": "code",
      "source": [
        "def gen_num_up_to(n):\n",
        "  num = 0\n",
        "  while num < n:\n",
        "    yield num\n",
        "    num += 2\n",
        "\n",
        "varList = gen_num_up_to(5)\n",
        "print([var for var in varList])"
      ],
      "metadata": {
        "colab": {
          "base_uri": "https://localhost:8080/"
        },
        "id": "oPS2p8VnPly2",
        "outputId": "c1a70310-af88-4ab0-9694-14df0d926711"
      },
      "execution_count": 10,
      "outputs": [
        {
          "output_type": "stream",
          "name": "stdout",
          "text": [
            "[0, 2, 4]\n"
          ]
        }
      ]
    },
    {
      "cell_type": "code",
      "source": [
        "def gen_num_up_to(n):\n",
        "  num = 0\n",
        "  while num < n:\n",
        "    yield num\n",
        "    num += 2\n",
        "\n",
        "gen_num_up_to(5)\n",
        "\n",
        "varList = range(0, 5, 2)\n",
        "print([var for var in varList])"
      ],
      "metadata": {
        "colab": {
          "base_uri": "https://localhost:8080/"
        },
        "id": "yrRpvoYqPpZ2",
        "outputId": "4e5c1ed8-b767-43bf-94fb-c3fb73a991ab"
      },
      "execution_count": 11,
      "outputs": [
        {
          "output_type": "stream",
          "name": "stdout",
          "text": [
            "[0, 2, 4]\n"
          ]
        }
      ]
    },
    {
      "cell_type": "markdown",
      "source": [
        "#Slicing"
      ],
      "metadata": {
        "id": "sRnT5mdCPzG0"
      }
    },
    {
      "cell_type": "code",
      "source": [
        "varList = [1,2,3,4,5,6,7,8,9,10]\n",
        "print(varList[:5])      #end:\n",
        "\n",
        "print(varList[5:])      #start:\n",
        "\n",
        "print(varList[:-2])      \n",
        "\n",
        "print(varList[-2:])\n",
        "\n",
        "print(varList[2:-2])    #start:end\n",
        "\n",
        "print(varList[2:8:2])  #start:end:step"
      ],
      "metadata": {
        "colab": {
          "base_uri": "https://localhost:8080/"
        },
        "id": "0Y5ysLrzPzuO",
        "outputId": "d289ea0c-af3b-43d0-c91a-6f114462cac6"
      },
      "execution_count": 12,
      "outputs": [
        {
          "output_type": "stream",
          "name": "stdout",
          "text": [
            "[1, 2, 3, 4, 5]\n",
            "[6, 7, 8, 9, 10]\n",
            "[1, 2, 3, 4, 5, 6, 7, 8]\n",
            "[9, 10]\n",
            "[3, 4, 5, 6, 7, 8]\n",
            "[3, 5, 7]\n"
          ]
        }
      ]
    }
  ]
}