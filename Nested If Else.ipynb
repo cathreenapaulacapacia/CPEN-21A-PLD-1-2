{
  "nbformat": 4,
  "nbformat_minor": 0,
  "metadata": {
    "colab": {
      "provenance": [],
      "authorship_tag": "ABX9TyMiEJEXr4InWO/GpXneb1Kh",
      "include_colab_link": true
    },
    "kernelspec": {
      "name": "python3",
      "display_name": "Python 3"
    },
    "language_info": {
      "name": "python"
    }
  },
  "cells": [
    {
      "cell_type": "markdown",
      "metadata": {
        "id": "view-in-github",
        "colab_type": "text"
      },
      "source": [
        "<a href=\"https://colab.research.google.com/github/cathreenapaulacapacia/CPEN-21A-PLD-1-2/blob/main/Nested%20If%20Else.ipynb\" target=\"_parent\"><img src=\"https://colab.research.google.com/assets/colab-badge.svg\" alt=\"Open In Colab\"/></a>"
      ]
    },
    {
      "cell_type": "markdown",
      "source": [
        "#Nested If Else"
      ],
      "metadata": {
        "id": "Fd1zAMQkYQNO"
      }
    },
    {
      "cell_type": "code",
      "source": [
        "x = 41\n",
        "if x>10:\n",
        "  print(\"above ten\")\n",
        "  if x>20:\n",
        "    print(\"above twenty\")\n",
        "  else:\n",
        "    print(\"below twenty\")\n",
        "  if x>30:\n",
        "      print(\"above thirty\")\n",
        "  else:\n",
        "      print(\"below thirty\")\n",
        "  if x>40:\n",
        "        print(\"above forty\")\n",
        "  else:\n",
        "        print(\"below forty\")\n",
        "  if x>50:\n",
        "          print(\"above fifty\")\n",
        "  else:\n",
        "          print(\"below fifty\")  \n",
        "else:\n",
        "  print(\"not above ten\")"
      ],
      "metadata": {
        "colab": {
          "base_uri": "https://localhost:8080/"
        },
        "id": "55bGBMsraCIF",
        "outputId": "3fbc2911-c849-457d-ad68-e59af45ce269"
      },
      "execution_count": 3,
      "outputs": [
        {
          "output_type": "stream",
          "name": "stdout",
          "text": [
            "above ten\n",
            "above twenty\n",
            "above thirty\n",
            "above forty\n",
            "below fifty\n"
          ]
        }
      ]
    },
    {
      "cell_type": "code",
      "source": [
        "x = 41\n",
        "if x>10:\n",
        "  print(\"above 10\")\n",
        "  if x<20:\n",
        "    print(\"below 20\")\n",
        "  else:\n",
        "    print(\"above 20\")\n",
        "    if x<30:\n",
        "      print(\"below 30\")\n",
        "    else:\n",
        "      print(\"above 30\")\n",
        "      if x<40:\n",
        "        print(\"below 40\")\n",
        "      else:\n",
        "        print(\"above 40\")\n",
        "        if x<50:\n",
        "          print(\"below 50\")\n",
        "        else:\n",
        "          print(\"above 50\")"
      ],
      "metadata": {
        "colab": {
          "base_uri": "https://localhost:8080/"
        },
        "id": "GcPOjYnpaKGO",
        "outputId": "c586a9a5-7e70-4d4c-e278-0e08bc25b958"
      },
      "execution_count": 4,
      "outputs": [
        {
          "output_type": "stream",
          "name": "stdout",
          "text": [
            "above 10\n",
            "above 20\n",
            "above 30\n",
            "above 40\n",
            "below 50\n"
          ]
        }
      ]
    },
    {
      "cell_type": "code",
      "source": [
        "print(\"Enter a number\")\n",
        "x = int(input())\n",
        "if x>10:\n",
        "  print(\"above 10\")\n",
        "  if x<20:\n",
        "    print(\"below 20\")\n",
        "  else:\n",
        "    print(\"above 20\")\n",
        "    if x<30:\n",
        "      print(\"below 30\")\n",
        "    else:\n",
        "      print(\"above 30\")\n",
        "      if x<40:\n",
        "        print(\"below 40\")\n",
        "      else:\n",
        "        print(\"above 40\")\n",
        "        if x<50:\n",
        "          print(\"below 50\")\n",
        "        else:\n",
        "          print(\"above 50\")"
      ],
      "metadata": {
        "colab": {
          "base_uri": "https://localhost:8080/"
        },
        "id": "EyjlSfmIaMGc",
        "outputId": "a2717959-2d3b-44d0-f6be-fb5e2fa9d344"
      },
      "execution_count": 5,
      "outputs": [
        {
          "output_type": "stream",
          "name": "stdout",
          "text": [
            "Enter a number\n",
            "26\n",
            "above 10\n",
            "above 20\n",
            "below 30\n"
          ]
        }
      ]
    },
    {
      "cell_type": "markdown",
      "source": [
        "#Example 1\n",
        "Write a program that determines if the input age is qualified to vote or not. the qualifying age is 18 years old and above."
      ],
      "metadata": {
        "id": "2Hq7AgKHacZO"
      }
    },
    {
      "cell_type": "code",
      "source": [
        "print(\"Enter your age\")\n",
        "age = int(input())\n",
        "if age>18:\n",
        "  print(\"You are qualified to vote.\")\n",
        "elif age==18:\n",
        "  print(\"You are qualified to vote.\")\n",
        "else:\n",
        "    print(\"You are not qualified to vote.\")"
      ],
      "metadata": {
        "colab": {
          "base_uri": "https://localhost:8080/"
        },
        "id": "zKmTNfVaafPV",
        "outputId": "fc15594b-9c18-4123-a780-1671147b64f5"
      },
      "execution_count": 6,
      "outputs": [
        {
          "output_type": "stream",
          "name": "stdout",
          "text": [
            "Enter your age\n",
            "20\n",
            "You are qualified to vote.\n"
          ]
        }
      ]
    },
    {
      "cell_type": "markdown",
      "source": [
        "#Example 2\n",
        "Write a program that determines if the input number is POSITIVE, NEGATIVE or ZERO"
      ],
      "metadata": {
        "id": "9bHz0oFQascs"
      }
    },
    {
      "cell_type": "code",
      "source": [
        "print(\"Enter the number\")\n",
        "num = int(input())\n",
        "if num>0:\n",
        "  print(\"Positive\")\n",
        "elif num==0:\n",
        "  print(\"Zero\")\n",
        "else:\n",
        "    print(\"Negative\")"
      ],
      "metadata": {
        "colab": {
          "base_uri": "https://localhost:8080/"
        },
        "id": "sha-KfrzauyN",
        "outputId": "a592364f-de6c-404e-a0c5-93182230fd1f"
      },
      "execution_count": 7,
      "outputs": [
        {
          "output_type": "stream",
          "name": "stdout",
          "text": [
            "Enter the number\n",
            "26\n",
            "Positive\n"
          ]
        }
      ]
    },
    {
      "cell_type": "markdown",
      "source": [
        "#Example 3\n",
        "Write a program to determines if the grades are:\n",
        "\n",
        "  if: \n",
        "  grade > = 75, \"Passed\" \n",
        "  grade = 74, \"Remedial\" \n",
        "  grade < 74, \"Failed\"\n",
        "\n",
        "note: if grade is a negative number, it will not be accepted"
      ],
      "metadata": {
        "id": "XTUgFylma_FT"
      }
    },
    {
      "cell_type": "code",
      "source": [
        "print(\"Enter the grade\")\n",
        "grade= int(input())\n",
        "if grade>=75:\n",
        "  print(\"Passed\")\n",
        "elif grade==74:\n",
        "  print(\"Remedial\")\n",
        "else:\n",
        "  print(\"Failed\")"
      ],
      "metadata": {
        "colab": {
          "base_uri": "https://localhost:8080/"
        },
        "id": "9sA6NpZsbC9T",
        "outputId": "c0f0f81a-ce02-420e-f9f3-7bd39d4fb3a4"
      },
      "execution_count": 8,
      "outputs": [
        {
          "output_type": "stream",
          "name": "stdout",
          "text": [
            "Enter the grade\n",
            "82\n",
            "Passed\n"
          ]
        }
      ]
    }
  ]
}