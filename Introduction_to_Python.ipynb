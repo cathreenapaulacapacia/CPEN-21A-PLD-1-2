{
  "nbformat": 4,
  "nbformat_minor": 0,
  "metadata": {
    "colab": {
      "provenance": [],
      "authorship_tag": "ABX9TyOuCg7ojLbC8aDljbSnIoP2",
      "include_colab_link": true
    },
    "kernelspec": {
      "name": "python3",
      "display_name": "Python 3"
    },
    "language_info": {
      "name": "python"
    }
  },
  "cells": [
    {
      "cell_type": "markdown",
      "metadata": {
        "id": "view-in-github",
        "colab_type": "text"
      },
      "source": [
        "<a href=\"https://colab.research.google.com/github/cathreenapaulacapacia/CPEN-21A-PLD-1-2/blob/main/Introduction_to_Python.ipynb\" target=\"_parent\"><img src=\"https://colab.research.google.com/assets/colab-badge.svg\" alt=\"Open In Colab\"/></a>"
      ]
    },
    {
      "cell_type": "markdown",
      "source": [
        "# Indentation"
      ],
      "metadata": {
        "id": "kIR3NqDkj9rc"
      }
    },
    {
      "cell_type": "code",
      "source": [
        "if 5>4:\n",
        "  print(\"5 is greater than 4\")  #This is a comment"
      ],
      "metadata": {
        "colab": {
          "base_uri": "https://localhost:8080/"
        },
        "id": "1uGlcIb0fz8J",
        "outputId": "b6d1826f-d1af-4273-8db9-0d26dca55188"
      },
      "execution_count": 17,
      "outputs": [
        {
          "output_type": "stream",
          "name": "stdout",
          "text": [
            "5 is greater than 4\n"
          ]
        }
      ]
    },
    {
      "cell_type": "markdown",
      "source": [
        "# Variable Declaration"
      ],
      "metadata": {
        "id": "qY0JlDa6gwYG"
      }
    },
    {
      "cell_type": "code",
      "source": [
        "#variable with a single value\n",
        "x=5\n",
        "y=4\n",
        "if x>y: \n",
        "  print(\"x is greater than y\")\n",
        "else:\n",
        "    print(\"y is greater than y\")\n",
        "\n",
        "#variable with multiple values\n",
        "a,b = 1,2\n",
        "print(\"The value of a is:\",a)\n",
        "print(\"The value of b is:\",b)\n",
        "\n",
        "#multiple variables with single value\n",
        "b = q = r = \"Cathie\"\n",
        "print(b)\n",
        "print(q)\n",
        "print(r)"
      ],
      "metadata": {
        "colab": {
          "base_uri": "https://localhost:8080/"
        },
        "id": "146A8qFWg1F7",
        "outputId": "db92ae95-b499-489e-9de0-d4f3c8cef96e"
      },
      "execution_count": 18,
      "outputs": [
        {
          "output_type": "stream",
          "name": "stdout",
          "text": [
            "x is greater than y\n",
            "The value of a is: 1\n",
            "The value of b is: 2\n",
            "Cathie\n",
            "Cathie\n",
            "Cathie\n"
          ]
        }
      ]
    },
    {
      "cell_type": "markdown",
      "source": [
        "# Casting and Type( ) Function"
      ],
      "metadata": {
        "id": "9ujQLTL_hEBo"
      }
    },
    {
      "cell_type": "code",
      "source": [
        "f = int(4)   #integer\n",
        "g=float(4)   #decimal/fraction\n",
        "\n",
        "print (f)\n",
        "print (g)\n",
        "\n",
        "print(type(f))\n",
        "print(type(g))"
      ],
      "metadata": {
        "colab": {
          "base_uri": "https://localhost:8080/"
        },
        "id": "nJA8P6eShLex",
        "outputId": "f25effc8-3273-4da1-d288-01e5c81021fb"
      },
      "execution_count": 19,
      "outputs": [
        {
          "output_type": "stream",
          "name": "stdout",
          "text": [
            "4\n",
            "4.0\n",
            "<class 'int'>\n",
            "<class 'float'>\n"
          ]
        }
      ]
    },
    {
      "cell_type": "markdown",
      "source": [
        "# Dobule Quote or Single Quote"
      ],
      "metadata": {
        "id": "8mXYh1XyhmSZ"
      }
    },
    {
      "cell_type": "code",
      "source": [
        "name = \"Cathreena\"\n",
        "name1 = \"Paula\"\n",
        "name2 = \"Gomez\"\n",
        "name3 = \"Capacia\"\n",
        "\n",
        "print(name)\n",
        "print(name1)\n",
        "print(name2)\n",
        "print(name3)"
      ],
      "metadata": {
        "colab": {
          "base_uri": "https://localhost:8080/"
        },
        "id": "R-TG4-pShnL7",
        "outputId": "e73fcd94-0193-4754-ea2f-a2159d84e344"
      },
      "execution_count": 20,
      "outputs": [
        {
          "output_type": "stream",
          "name": "stdout",
          "text": [
            "Cathreena\n",
            "Paula\n",
            "Gomez\n",
            "Capacia\n"
          ]
        }
      ]
    },
    {
      "cell_type": "markdown",
      "source": [
        "# Case Sensitive"
      ],
      "metadata": {
        "id": "9ZqnUb0Bh8av"
      }
    },
    {
      "cell_type": "code",
      "source": [
        "name = \"Cathie\"\n",
        "print(name)"
      ],
      "metadata": {
        "colab": {
          "base_uri": "https://localhost:8080/"
        },
        "id": "cifPqffph9Vv",
        "outputId": "a0e4d0d3-2cbc-4899-8fc2-d2810c0b6da3"
      },
      "execution_count": 21,
      "outputs": [
        {
          "output_type": "stream",
          "name": "stdout",
          "text": [
            "Cathie\n"
          ]
        }
      ]
    },
    {
      "cell_type": "markdown",
      "source": [
        "# Output Variables"
      ],
      "metadata": {
        "id": "-6MNC4FviDol"
      }
    },
    {
      "cell_type": "code",
      "source": [
        "o = \"is fun!\"\n",
        "print(\"Pyton programming\"+\" \"+ o) #append is fun! \n",
        "\n",
        "n = \"Python\"\n",
        "m = \"is fun!\"\n",
        "k = n + \" \" + m\n",
        "print(k)"
      ],
      "metadata": {
        "colab": {
          "base_uri": "https://localhost:8080/"
        },
        "id": "K-U_hhRRiEud",
        "outputId": "b45006e2-0d17-4389-f41e-17efd502388a"
      },
      "execution_count": 22,
      "outputs": [
        {
          "output_type": "stream",
          "name": "stdout",
          "text": [
            "Pyton programming is fun!\n",
            "Python is fun!\n"
          ]
        }
      ]
    }
  ]
}